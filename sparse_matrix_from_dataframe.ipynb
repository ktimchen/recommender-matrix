{
 "cells": [
  {
   "cell_type": "code",
   "execution_count": 1,
   "metadata": {},
   "outputs": [],
   "source": [
    "import pandas as pd\n",
    "import numpy as np\n",
    "from scipy.sparse import csr_matrix\n",
    "from pandas.api.types import CategoricalDtype\n",
    "\n",
    "import json\n",
    "import pickle"
   ]
  },
  {
   "cell_type": "code",
   "execution_count": 2,
   "metadata": {},
   "outputs": [],
   "source": [
    "df = pd.read_csv(\"bgg_100_10.csv\")\n",
    "\n",
    "\n",
    "#df must have the columns ID______user________rating\n",
    "id_c = CategoricalDtype(sorted(df.ID.unique()), ordered=True)\n",
    "user_c = CategoricalDtype(sorted(df.user.unique()), ordered=True)\n",
    "row = df.user.astype(user_c).cat.codes\n",
    "col = df.ID.astype(id_c).cat.codes\n",
    "sparse_matrix = csr_matrix((df[\"rating\"], (row, col)), \\\n",
    "                           shape=(user_c.categories.size, id_c.categories.size))\n"
   ]
  },
  {
   "cell_type": "code",
   "execution_count": 3,
   "metadata": {},
   "outputs": [
    {
     "data": {
      "text/plain": [
       "Index([' mycroft', '-=Yod@=-', '-Johnny-', '-Loren-', '-LucaS-', '-mIDE-',\n",
       "       '-mik-', '-pj-', '-snarf-', '-toni-',\n",
       "       ...\n",
       "       'zzz2525', 'zzzabiss', 'zzzeagle', 'zzzk1', 'zzzkardel', 'zzzuzu',\n",
       "       'zzzvone', 'zzzxxxyyy', 'zzzzzane', 'Æleksandr Þræð'],\n",
       "      dtype='object', length=192092)"
      ]
     },
     "execution_count": 3,
     "metadata": {},
     "output_type": "execute_result"
    }
   ],
   "source": [
    "user_c.categories"
   ]
  },
  {
   "cell_type": "code",
   "execution_count": 4,
   "metadata": {},
   "outputs": [
    {
     "data": {
      "text/plain": [
       "Int64Index([     1,      2,      3,      4,      5,      7,      8,      9,\n",
       "                10,     11,\n",
       "            ...\n",
       "            299252, 301919, 302193, 302260, 302336, 302388, 302723, 303051,\n",
       "            303057, 305682],\n",
       "           dtype='int64', length=10617)"
      ]
     },
     "execution_count": 4,
     "metadata": {},
     "output_type": "execute_result"
    }
   ],
   "source": [
    "id_c.categories"
   ]
  },
  {
   "cell_type": "markdown",
   "metadata": {},
   "source": [
    "There are two dictionaries:\n",
    "dict_cat_to_ID sends categorical data(row number of a sparse matrix) to game ID's\n",
    "dict_ID_to_cat sends the game ID to the categorical data(row number of a sparse matrix)"
   ]
  },
  {
   "cell_type": "code",
   "execution_count": 143,
   "metadata": {},
   "outputs": [],
   "source": [
    "dict_cat_to_ID = dict(zip(range(len(list(id_c.categories))), list(id_c.categories)))"
   ]
  },
  {
   "cell_type": "code",
   "execution_count": 27,
   "metadata": {},
   "outputs": [
    {
     "data": {
      "text/plain": [
       "100423"
      ]
     },
     "execution_count": 27,
     "metadata": {},
     "output_type": "execute_result"
    }
   ],
   "source": [
    "dict_cat_to_ID[\"5651\"]"
   ]
  },
  {
   "cell_type": "code",
   "execution_count": 145,
   "metadata": {},
   "outputs": [],
   "source": [
    "dict_ID_to_cat = dict(zip(list(id_c.categories), range(len(list(id_c.categories)))))"
   ]
  },
  {
   "cell_type": "code",
   "execution_count": 146,
   "metadata": {},
   "outputs": [
    {
     "data": {
      "text/plain": [
       "5651"
      ]
     },
     "execution_count": 146,
     "metadata": {},
     "output_type": "execute_result"
    }
   ],
   "source": [
    "dict_ID_to_cat[100423]"
   ]
  },
  {
   "cell_type": "code",
   "execution_count": 157,
   "metadata": {},
   "outputs": [],
   "source": [
    "with open('dict_cat_to_ID.txt', 'w') as file:\n",
    "    json.dump(dict_cat_to_ID, file)\n",
    "\n",
    "\n",
    "with open('dict_ID_to_cat.txt', 'w') as file:\n",
    "    json.dump(dict_ID_to_cat, file)"
   ]
  },
  {
   "cell_type": "markdown",
   "metadata": {},
   "source": [
    "Let's build the knn model and pickle it as well:"
   ]
  },
  {
   "cell_type": "markdown",
   "metadata": {},
   "source": [
    "user-by-item matrix"
   ]
  },
  {
   "cell_type": "code",
   "execution_count": 5,
   "metadata": {},
   "outputs": [
    {
     "data": {
      "text/plain": [
       "(192092, 10617)"
      ]
     },
     "execution_count": 5,
     "metadata": {},
     "output_type": "execute_result"
    }
   ],
   "source": [
    "sparse_matrix.shape"
   ]
  },
  {
   "cell_type": "code",
   "execution_count": 6,
   "metadata": {},
   "outputs": [],
   "source": [
    "from svd_with_bias import *"
   ]
  },
  {
   "cell_type": "code",
   "execution_count": 7,
   "metadata": {},
   "outputs": [],
   "source": [
    "U,S,V  = svd_bias(sparse_matrix, 100)"
   ]
  },
  {
   "cell_type": "code",
   "execution_count": 8,
   "metadata": {},
   "outputs": [
    {
     "data": {
      "text/plain": [
       "(100, 10617)"
      ]
     },
     "execution_count": 8,
     "metadata": {},
     "output_type": "execute_result"
    }
   ],
   "source": [
    "V.shape"
   ]
  },
  {
   "cell_type": "markdown",
   "metadata": {},
   "source": [
    "rows as games:"
   ]
  },
  {
   "cell_type": "code",
   "execution_count": 9,
   "metadata": {},
   "outputs": [],
   "source": [
    "item_matrix = csr_matrix(np.dot(V.T, np.diag(S)))"
   ]
  },
  {
   "cell_type": "code",
   "execution_count": 10,
   "metadata": {},
   "outputs": [
    {
     "data": {
      "text/plain": [
       "<10617x100 sparse matrix of type '<class 'numpy.float64'>'\n",
       "\twith 1061700 stored elements in Compressed Sparse Row format>"
      ]
     },
     "execution_count": 10,
     "metadata": {},
     "output_type": "execute_result"
    }
   ],
   "source": [
    "item_matrix"
   ]
  },
  {
   "cell_type": "code",
   "execution_count": 11,
   "metadata": {},
   "outputs": [
    {
     "data": {
      "text/plain": [
       "NearestNeighbors(algorithm='brute', metric='cosine')"
      ]
     },
     "execution_count": 11,
     "metadata": {},
     "output_type": "execute_result"
    }
   ],
   "source": [
    "from sklearn.neighbors import NearestNeighbors\n",
    "\n",
    "model_knn = NearestNeighbors(metric = 'cosine', algorithm = 'brute')\n",
    "model_knn.fit(item_matrix)\n"
   ]
  },
  {
   "cell_type": "code",
   "execution_count": 12,
   "metadata": {},
   "outputs": [
    {
     "data": {
      "text/plain": [
       "NearestNeighbors(algorithm='brute', metric='cosine')"
      ]
     },
     "execution_count": 12,
     "metadata": {},
     "output_type": "execute_result"
    }
   ],
   "source": [
    "model_knn"
   ]
  },
  {
   "cell_type": "code",
   "execution_count": 13,
   "metadata": {},
   "outputs": [],
   "source": [
    "knnPickle = open('knnpickle_file', 'wb') \n",
    "pickle.dump(model_knn, knnPickle)  \n"
   ]
  },
  {
   "cell_type": "code",
   "execution_count": null,
   "metadata": {},
   "outputs": [],
   "source": []
  },
  {
   "cell_type": "code",
   "execution_count": null,
   "metadata": {},
   "outputs": [],
   "source": []
  },
  {
   "cell_type": "markdown",
   "metadata": {},
   "source": [
    "Loading the data back:"
   ]
  },
  {
   "cell_type": "code",
   "execution_count": 2,
   "metadata": {},
   "outputs": [],
   "source": [
    "with open('dict_cat_to_ID.txt', 'r') as file:\n",
    "    dict_cat_to_ID = json.load(file)"
   ]
  },
  {
   "cell_type": "code",
   "execution_count": 3,
   "metadata": {},
   "outputs": [],
   "source": [
    "with open('dict_ID_to_cat.txt', 'r') as file:\n",
    "    dict_ID_to_cat = json.load(file)"
   ]
  },
  {
   "cell_type": "code",
   "execution_count": 4,
   "metadata": {},
   "outputs": [],
   "source": [
    "with open('knnpickle_file', 'rb') as file:\n",
    "    loaded_model = pickle.load(file)"
   ]
  },
  {
   "cell_type": "code",
   "execution_count": 5,
   "metadata": {},
   "outputs": [],
   "source": [
    "graph = loaded_model.kneighbors_graph(n_neighbors=100)"
   ]
  },
  {
   "cell_type": "code",
   "execution_count": 6,
   "metadata": {},
   "outputs": [],
   "source": [
    "game_dict = {c:[dict_cat_to_ID.get(str(x)) for x in graph[dict_ID_to_cat.get(c)].indices] \\\n",
    "             for c in dict_ID_to_cat.keys()}"
   ]
  },
  {
   "cell_type": "code",
   "execution_count": 7,
   "metadata": {},
   "outputs": [
    {
     "data": {
      "text/plain": [
       "5651"
      ]
     },
     "execution_count": 7,
     "metadata": {},
     "output_type": "execute_result"
    }
   ],
   "source": [
    "dict_ID_to_cat.get(\"100423\")"
   ]
  },
  {
   "cell_type": "code",
   "execution_count": 8,
   "metadata": {},
   "outputs": [
    {
     "name": "stdout",
     "output_type": "stream",
     "text": [
      "[170624, 229265, 163839, 244711, 182134, 281442, 190082, 227789, 255692, 245934, 234277, 187700, 232405, 196526, 165722, 283863, 119506, 109125, 204286, 164949, 236191, 69779, 210290, 247367, 276498, 234671, 197405, 193670, 192458, 157917, 160495, 214887, 225244, 252526, 272682, 276042, 302336, 119637, 262733, 245422, 166317, 270844, 181495, 261424, 280794, 208428, 171726, 160010, 103670, 139952, 174802, 235014, 240980, 36597, 68199, 57998, 183572, 125977, 131904, 298572, 18748, 275067, 10679, 217083, 25900, 31759, 17394, 254888, 101929, 56995, 12898, 241987, 156175, 250488, 241225, 217372, 2251, 185123, 113931, 293678, 216179, 7349, 122240, 12355, 302388, 2081, 267127, 252399, 262543, 11967, 13016, 254640, 203800, 6431, 87907, 229491, 232924, 149951, 19622, 91080]\n"
     ]
    }
   ],
   "source": [
    "print(game_dict.get(\"269207\"))"
   ]
  },
  {
   "cell_type": "code",
   "execution_count": 9,
   "metadata": {},
   "outputs": [],
   "source": [
    "with open(\"game_dict.txt\", \"w\") as file:\n",
    "    json.dump(game_dict, file)"
   ]
  },
  {
   "cell_type": "code",
   "execution_count": 12,
   "metadata": {},
   "outputs": [
    {
     "data": {
      "text/plain": [
       "100"
      ]
     },
     "execution_count": 12,
     "metadata": {},
     "output_type": "execute_result"
    }
   ],
   "source": [
    "len(game_dict[\"1\"])"
   ]
  },
  {
   "cell_type": "markdown",
   "metadata": {},
   "source": [
    "IT WORKS!!!!!!!"
   ]
  }
 ],
 "metadata": {
  "kernelspec": {
   "display_name": "Python 3",
   "language": "python",
   "name": "python3"
  },
  "language_info": {
   "codemirror_mode": {
    "name": "ipython",
    "version": 3
   },
   "file_extension": ".py",
   "mimetype": "text/x-python",
   "name": "python",
   "nbconvert_exporter": "python",
   "pygments_lexer": "ipython3",
   "version": "3.8.3"
  }
 },
 "nbformat": 4,
 "nbformat_minor": 4
}
